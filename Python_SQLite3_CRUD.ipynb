{
  "nbformat": 4,
  "nbformat_minor": 0,
  "metadata": {
    "colab": {
      "name": "Python_SQLite3_CRUD.ipynb",
      "provenance": [],
      "authorship_tag": "ABX9TyMmxL16++jcgQ6bqyRMF+iL",
      "include_colab_link": true
    },
    "kernelspec": {
      "name": "python3",
      "display_name": "Python 3"
    }
  },
  "cells": [
    {
      "cell_type": "markdown",
      "metadata": {
        "id": "view-in-github",
        "colab_type": "text"
      },
      "source": [
        "<a href=\"https://colab.research.google.com/github/Matheusvfvitor/Py/blob/master/Python_SQLite3_CRUD.ipynb\" target=\"_parent\"><img src=\"https://colab.research.google.com/assets/colab-badge.svg\" alt=\"Open In Colab\"/></a>"
      ]
    },
    {
      "cell_type": "code",
      "metadata": {
        "id": "_GB8Xkf8y_6h",
        "colab_type": "code",
        "colab": {}
      },
      "source": [
        "import os \n",
        "import random \n",
        "import sqlite3\n",
        "import time\n",
        "import datetime"
      ],
      "execution_count": 0,
      "outputs": []
    },
    {
      "cell_type": "code",
      "metadata": {
        "id": "8BJ8NcqazMtB",
        "colab_type": "code",
        "colab": {}
      },
      "source": [
        "conn = sqlite3.connect(\"dsa.db\")\n",
        "c = conn.cursor()"
      ],
      "execution_count": 0,
      "outputs": []
    },
    {
      "cell_type": "code",
      "metadata": {
        "id": "tn50PDnB159r",
        "colab_type": "code",
        "colab": {}
      },
      "source": [
        "def create_table():\n",
        "  c.execute('CREATE TABLE IF NOT EXISTS produtoS(id INTEGER PRIMARY KEY AUTOINCREMENT NOT NULL, date TEXT,' \\\n",
        "            'prod_name TEXT, valor REAL)')"
      ],
      "execution_count": 0,
      "outputs": []
    },
    {
      "cell_type": "code",
      "metadata": {
        "id": "XSow0_vw1-Lp",
        "colab_type": "code",
        "colab": {}
      },
      "source": [
        "create_table()"
      ],
      "execution_count": 0,
      "outputs": []
    },
    {
      "cell_type": "code",
      "metadata": {
        "id": "HzItND2r2FS9",
        "colab_type": "code",
        "colab": {}
      },
      "source": [
        "def data_insert_var(prod_name):\n",
        "  new_date = datetime.datetime.now()\n",
        "  new_prod_name = prod_name\n",
        "  new_value = random.randrange(50,100)\n",
        "  c.execute(\"INSERT INTO produtos(date, prod_name, valor) VALUES (?,?,?)\", (new_date, new_prod_name, new_value))\n",
        "  conn.commit()"
      ],
      "execution_count": 0,
      "outputs": []
    },
    {
      "cell_type": "code",
      "metadata": {
        "id": "j9uOAacY2fMT",
        "colab_type": "code",
        "colab": {}
      },
      "source": [
        "valores = [\"mouse\", \"fone de ouvido\", \"mousepad\", \"powerbank\", \"celular\", \"carregador\", \"caderno\", \"caneta\", \"lápis\", \"borracha\", \"apagador\"]\n",
        "\n",
        "for valor in valores:\n",
        "  data_insert_var(valor)"
      ],
      "execution_count": 0,
      "outputs": []
    },
    {
      "cell_type": "code",
      "metadata": {
        "id": "0-YrjUOFzSNs",
        "colab_type": "code",
        "colab": {}
      },
      "source": [
        "def read_all():\n",
        "  c.execute(\"SELECT * FROM produtos\")\n",
        "  for lin in c.fetchall():\n",
        "    print(\"id: %d , data: %s, prod_name: %s, valor: %d\\n \" %lin)\n",
        "\n",
        "def read_record(valor):\n",
        "  c.execute(\"SELECT * FROM PRODUTOS WHERE valor > %d \" %(valor))\n",
        "  for lin in c.fetchall():\n",
        "    print(\"id: %d , data: %s, prod_name: %s, valor: %d\\n \" %lin)\n",
        "\n",
        "def read_column(column):\n",
        "  c.execute(\"SELECT * FROM PRODUTOS\")\n",
        "  for lin in c.fetchall():\n",
        "    print(lin[column])"
      ],
      "execution_count": 0,
      "outputs": []
    },
    {
      "cell_type": "code",
      "metadata": {
        "id": "2Lz507sf0Su0",
        "colab_type": "code",
        "colab": {
          "base_uri": "https://localhost:8080/",
          "height": 454
        },
        "outputId": "30aa3a39-9eec-45fe-a1f1-2e7ee681856a"
      },
      "source": [
        "read_all()"
      ],
      "execution_count": 60,
      "outputs": [
        {
          "output_type": "stream",
          "text": [
            "id: 1 , data: 2020-05-18 03:35:52.740572, prod_name: monitor, valor: 66\n",
            " \n",
            "id: 2 , data: 2020-05-18 03:36:01.946104, prod_name: teclado, valor: 56\n",
            " \n",
            "id: 3 , data: 2020-05-18 03:39:19.024908, prod_name: mouse, valor: 77\n",
            " \n",
            "id: 4 , data: 2020-05-18 03:39:19.035755, prod_name: fone de ouvido, valor: 59\n",
            " \n",
            "id: 5 , data: 2020-05-18 03:39:19.046623, prod_name: mousepad, valor: 66\n",
            " \n",
            "id: 6 , data: 2020-05-18 03:39:19.054588, prod_name: powerbank, valor: 90\n",
            " \n",
            "id: 7 , data: 2020-05-18 03:39:19.062630, prod_name: celular, valor: 83\n",
            " \n",
            "id: 8 , data: 2020-05-18 03:39:19.070599, prod_name: carregador, valor: 97\n",
            " \n",
            "id: 9 , data: 2020-05-18 03:39:19.078297, prod_name: caderno, valor: 97\n",
            " \n",
            "id: 10 , data: 2020-05-18 03:39:19.086037, prod_name: caneta, valor: 50\n",
            " \n",
            "id: 11 , data: 2020-05-18 03:39:19.093679, prod_name: lápis, valor: 74\n",
            " \n",
            "id: 12 , data: 2020-05-18 03:39:19.102009, prod_name: borracha, valor: 64\n",
            " \n",
            "id: 13 , data: 2020-05-18 03:39:19.109948, prod_name: apagador, valor: 84\n",
            " \n"
          ],
          "name": "stdout"
        }
      ]
    },
    {
      "cell_type": "code",
      "metadata": {
        "id": "U1zwVfyG0agC",
        "colab_type": "code",
        "colab": {
          "base_uri": "https://localhost:8080/",
          "height": 252
        },
        "outputId": "69379aa5-d9a1-45e5-c4d5-54cc6c85dae9"
      },
      "source": [
        "read_record(70)"
      ],
      "execution_count": 62,
      "outputs": [
        {
          "output_type": "stream",
          "text": [
            "id: 3 , data: 2020-05-18 03:39:19.024908, prod_name: mouse, valor: 77\n",
            " \n",
            "id: 6 , data: 2020-05-18 03:39:19.054588, prod_name: powerbank, valor: 90\n",
            " \n",
            "id: 7 , data: 2020-05-18 03:39:19.062630, prod_name: celular, valor: 83\n",
            " \n",
            "id: 8 , data: 2020-05-18 03:39:19.070599, prod_name: carregador, valor: 97\n",
            " \n",
            "id: 9 , data: 2020-05-18 03:39:19.078297, prod_name: caderno, valor: 97\n",
            " \n",
            "id: 11 , data: 2020-05-18 03:39:19.093679, prod_name: lápis, valor: 74\n",
            " \n",
            "id: 13 , data: 2020-05-18 03:39:19.109948, prod_name: apagador, valor: 84\n",
            " \n"
          ],
          "name": "stdout"
        }
      ]
    },
    {
      "cell_type": "code",
      "metadata": {
        "id": "q91PV0Pt0shO",
        "colab_type": "code",
        "colab": {
          "base_uri": "https://localhost:8080/",
          "height": 235
        },
        "outputId": "274f4eb6-5e6f-47d9-c75d-8f64ed28882b"
      },
      "source": [
        "read_column(2)"
      ],
      "execution_count": 66,
      "outputs": [
        {
          "output_type": "stream",
          "text": [
            "monitor\n",
            "teclado\n",
            "mouse\n",
            "fone de ouvido\n",
            "mousepad\n",
            "powerbank\n",
            "celular\n",
            "carregador\n",
            "caderno\n",
            "caneta\n",
            "lápis\n",
            "borracha\n",
            "apagador\n"
          ],
          "name": "stdout"
        }
      ]
    },
    {
      "cell_type": "code",
      "metadata": {
        "id": "svXvn8UE3iIr",
        "colab_type": "code",
        "colab": {}
      },
      "source": [
        "def update_data(new_value, condition):\n",
        "  c.execute(\"UPDATE produtos SET valor = %d  WHERE valor = %d\" %(new_value, condition))\n",
        "  conn.commit()\n",
        "\n",
        "def delete_data(condition):\n",
        "  c.execute(\"DELETE FROM produtos WHERE valor = %d\" %(condition))"
      ],
      "execution_count": 0,
      "outputs": []
    },
    {
      "cell_type": "code",
      "metadata": {
        "id": "83t4z8tR4b11",
        "colab_type": "code",
        "colab": {}
      },
      "source": [
        "update_data(22,90)"
      ],
      "execution_count": 0,
      "outputs": []
    },
    {
      "cell_type": "code",
      "metadata": {
        "id": "7oz0MarX4iuJ",
        "colab_type": "code",
        "colab": {
          "base_uri": "https://localhost:8080/",
          "height": 454
        },
        "outputId": "a35941bd-b495-4ebb-bd9e-57d265ea40d7"
      },
      "source": [
        "read_all()"
      ],
      "execution_count": 69,
      "outputs": [
        {
          "output_type": "stream",
          "text": [
            "id: 1 , data: 2020-05-18 03:35:52.740572, prod_name: monitor, valor: 66\n",
            " \n",
            "id: 2 , data: 2020-05-18 03:36:01.946104, prod_name: teclado, valor: 56\n",
            " \n",
            "id: 3 , data: 2020-05-18 03:39:19.024908, prod_name: mouse, valor: 77\n",
            " \n",
            "id: 4 , data: 2020-05-18 03:39:19.035755, prod_name: fone de ouvido, valor: 59\n",
            " \n",
            "id: 5 , data: 2020-05-18 03:39:19.046623, prod_name: mousepad, valor: 66\n",
            " \n",
            "id: 6 , data: 2020-05-18 03:39:19.054588, prod_name: powerbank, valor: 22\n",
            " \n",
            "id: 7 , data: 2020-05-18 03:39:19.062630, prod_name: celular, valor: 83\n",
            " \n",
            "id: 8 , data: 2020-05-18 03:39:19.070599, prod_name: carregador, valor: 97\n",
            " \n",
            "id: 9 , data: 2020-05-18 03:39:19.078297, prod_name: caderno, valor: 97\n",
            " \n",
            "id: 10 , data: 2020-05-18 03:39:19.086037, prod_name: caneta, valor: 50\n",
            " \n",
            "id: 11 , data: 2020-05-18 03:39:19.093679, prod_name: lápis, valor: 74\n",
            " \n",
            "id: 12 , data: 2020-05-18 03:39:19.102009, prod_name: borracha, valor: 64\n",
            " \n",
            "id: 13 , data: 2020-05-18 03:39:19.109948, prod_name: apagador, valor: 84\n",
            " \n"
          ],
          "name": "stdout"
        }
      ]
    },
    {
      "cell_type": "code",
      "metadata": {
        "id": "gV59NCXn4lQZ",
        "colab_type": "code",
        "colab": {}
      },
      "source": [
        "delete_data(64)"
      ],
      "execution_count": 0,
      "outputs": []
    },
    {
      "cell_type": "code",
      "metadata": {
        "id": "Hljzydx84t7Z",
        "colab_type": "code",
        "colab": {
          "base_uri": "https://localhost:8080/",
          "height": 420
        },
        "outputId": "82d11b84-e058-48f5-e1de-d88fd14f4e36"
      },
      "source": [
        "read_all()"
      ],
      "execution_count": 71,
      "outputs": [
        {
          "output_type": "stream",
          "text": [
            "id: 1 , data: 2020-05-18 03:35:52.740572, prod_name: monitor, valor: 66\n",
            " \n",
            "id: 2 , data: 2020-05-18 03:36:01.946104, prod_name: teclado, valor: 56\n",
            " \n",
            "id: 3 , data: 2020-05-18 03:39:19.024908, prod_name: mouse, valor: 77\n",
            " \n",
            "id: 4 , data: 2020-05-18 03:39:19.035755, prod_name: fone de ouvido, valor: 59\n",
            " \n",
            "id: 5 , data: 2020-05-18 03:39:19.046623, prod_name: mousepad, valor: 66\n",
            " \n",
            "id: 6 , data: 2020-05-18 03:39:19.054588, prod_name: powerbank, valor: 22\n",
            " \n",
            "id: 7 , data: 2020-05-18 03:39:19.062630, prod_name: celular, valor: 83\n",
            " \n",
            "id: 8 , data: 2020-05-18 03:39:19.070599, prod_name: carregador, valor: 97\n",
            " \n",
            "id: 9 , data: 2020-05-18 03:39:19.078297, prod_name: caderno, valor: 97\n",
            " \n",
            "id: 10 , data: 2020-05-18 03:39:19.086037, prod_name: caneta, valor: 50\n",
            " \n",
            "id: 11 , data: 2020-05-18 03:39:19.093679, prod_name: lápis, valor: 74\n",
            " \n",
            "id: 13 , data: 2020-05-18 03:39:19.109948, prod_name: apagador, valor: 84\n",
            " \n"
          ],
          "name": "stdout"
        }
      ]
    },
    {
      "cell_type": "code",
      "metadata": {
        "id": "6gwgfG554vDh",
        "colab_type": "code",
        "colab": {}
      },
      "source": [
        "valores = [\"televisao\", \"radio\", \"home teather\", \"rack\", \"sofa\", \"aparador\", \"vinho\", \"Geladeira\", \"guarda-roupa\", \"panela\", \"nicho\"]\n",
        "\n",
        "for valor in valores:\n",
        "  data_insert_var(valor)\n"
      ],
      "execution_count": 0,
      "outputs": []
    },
    {
      "cell_type": "code",
      "metadata": {
        "id": "Q4Q2EZyB5e2O",
        "colab_type": "code",
        "colab": {
          "base_uri": "https://localhost:8080/",
          "height": 790
        },
        "outputId": "2b7a874e-6614-4733-841c-da8aeee40052"
      },
      "source": [
        "read_all()"
      ],
      "execution_count": 73,
      "outputs": [
        {
          "output_type": "stream",
          "text": [
            "id: 1 , data: 2020-05-18 03:35:52.740572, prod_name: monitor, valor: 66\n",
            " \n",
            "id: 2 , data: 2020-05-18 03:36:01.946104, prod_name: teclado, valor: 56\n",
            " \n",
            "id: 3 , data: 2020-05-18 03:39:19.024908, prod_name: mouse, valor: 77\n",
            " \n",
            "id: 4 , data: 2020-05-18 03:39:19.035755, prod_name: fone de ouvido, valor: 59\n",
            " \n",
            "id: 5 , data: 2020-05-18 03:39:19.046623, prod_name: mousepad, valor: 66\n",
            " \n",
            "id: 6 , data: 2020-05-18 03:39:19.054588, prod_name: powerbank, valor: 22\n",
            " \n",
            "id: 7 , data: 2020-05-18 03:39:19.062630, prod_name: celular, valor: 83\n",
            " \n",
            "id: 8 , data: 2020-05-18 03:39:19.070599, prod_name: carregador, valor: 97\n",
            " \n",
            "id: 9 , data: 2020-05-18 03:39:19.078297, prod_name: caderno, valor: 97\n",
            " \n",
            "id: 10 , data: 2020-05-18 03:39:19.086037, prod_name: caneta, valor: 50\n",
            " \n",
            "id: 11 , data: 2020-05-18 03:39:19.093679, prod_name: lápis, valor: 74\n",
            " \n",
            "id: 13 , data: 2020-05-18 03:39:19.109948, prod_name: apagador, valor: 84\n",
            " \n",
            "id: 14 , data: 2020-05-18 03:48:45.507625, prod_name: televisao, valor: 55\n",
            " \n",
            "id: 15 , data: 2020-05-18 03:48:45.516757, prod_name: radio, valor: 93\n",
            " \n",
            "id: 16 , data: 2020-05-18 03:48:45.524463, prod_name: home teather, valor: 80\n",
            " \n",
            "id: 17 , data: 2020-05-18 03:48:45.532038, prod_name: rack, valor: 54\n",
            " \n",
            "id: 18 , data: 2020-05-18 03:48:45.539408, prod_name: sofa, valor: 99\n",
            " \n",
            "id: 19 , data: 2020-05-18 03:48:45.547471, prod_name: aparador, valor: 79\n",
            " \n",
            "id: 20 , data: 2020-05-18 03:48:45.554802, prod_name: vinho, valor: 50\n",
            " \n",
            "id: 21 , data: 2020-05-18 03:48:45.562716, prod_name: Geladeira, valor: 54\n",
            " \n",
            "id: 22 , data: 2020-05-18 03:48:45.570385, prod_name: guarda-roupa, valor: 66\n",
            " \n",
            "id: 23 , data: 2020-05-18 03:48:45.577976, prod_name: panela, valor: 98\n",
            " \n",
            "id: 24 , data: 2020-05-18 03:48:45.585337, prod_name: nicho, valor: 84\n",
            " \n"
          ],
          "name": "stdout"
        }
      ]
    },
    {
      "cell_type": "code",
      "metadata": {
        "id": "8l5l6CW75gFS",
        "colab_type": "code",
        "colab": {}
      },
      "source": [
        "import matplotlib.pyplot as plt\n",
        "%matplotlib inline"
      ],
      "execution_count": 0,
      "outputs": []
    },
    {
      "cell_type": "code",
      "metadata": {
        "id": "mvCAN7x25oKB",
        "colab_type": "code",
        "colab": {}
      },
      "source": [
        "def dados_grafico():\n",
        "  c.execute(\"SELECT id, valor FROM produtos\")\n",
        "  ids = []\n",
        "  valores = []\n",
        "  dados = c.fetchall()\n",
        "  \n",
        "  for lin in dados:\n",
        "    ids.append(lin[0])\n",
        "    valores.append(lin[1])\n",
        "  \n",
        "  print(ids)\n",
        "  print(valores)\n",
        "  plt.bar(ids, valores)\n",
        "  plt.show()"
      ],
      "execution_count": 0,
      "outputs": []
    },
    {
      "cell_type": "code",
      "metadata": {
        "id": "P5fkTYZi6Q-6",
        "colab_type": "code",
        "colab": {
          "base_uri": "https://localhost:8080/",
          "height": 298
        },
        "outputId": "ad301cc6-5cb4-4f32-c78e-cf37b9e26d65"
      },
      "source": [
        "dados_grafico()"
      ],
      "execution_count": 120,
      "outputs": [
        {
          "output_type": "stream",
          "text": [
            "[1, 2, 3, 4, 5, 6, 7, 8, 9, 10, 11, 13, 14, 15, 16, 17, 18, 19, 20, 21, 22, 23, 24]\n",
            "[66.0, 56.0, 77.0, 59.0, 66.0, 22.0, 83.0, 97.0, 97.0, 50.0, 74.0, 84.0, 55.0, 93.0, 80.0, 54.0, 99.0, 79.0, 50.0, 54.0, 66.0, 98.0, 84.0]\n"
          ],
          "name": "stdout"
        },
        {
          "output_type": "display_data",
          "data": {
            "image/png": "[encoded data removed]",
            "text/plain": [
              "<Figure size 432x288 with 1 Axes>"
            ]
          },
          "metadata": {
            "tags": [],
            "needs_background": "light"
          }
        }
      ]
    },
    {
      "cell_type": "code",
      "metadata": {
        "id": "Fzqv7PRK6TD5",
        "colab_type": "code",
        "colab": {}
      },
      "source": [
        ""
      ],
      "execution_count": 0,
      "outputs": []
    }
  ]
}