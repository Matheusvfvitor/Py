{
  "nbformat": 4,
  "nbformat_minor": 0,
  "metadata": {
    "colab": {
      "name": "python_SQLite2.ipynb",
      "provenance": [],
      "authorship_tag": "ABX9TyMIpmtV5+WQ5taY9JxHugPn",
      "include_colab_link": true
    },
    "kernelspec": {
      "name": "python3",
      "display_name": "Python 3"
    }
  },
  "cells": [
    {
      "cell_type": "markdown",
      "metadata": {
        "id": "view-in-github",
        "colab_type": "text"
      },
      "source": [
        "<a href=\"https://colab.research.google.com/github/Matheusvfvitor/Py/blob/master/python_SQLite2.ipynb\" target=\"_parent\"><img src=\"https://colab.research.google.com/assets/colab-badge.svg\" alt=\"Open In Colab\"/></a>"
      ]
    },
    {
      "cell_type": "code",
      "metadata": {
        "id": "gMZfO5VBtSkd",
        "colab_type": "code",
        "colab": {}
      },
      "source": [
        "import os \n",
        "os.remove(\"dsa.db\") if os.path.exists(\"dsa.db\") else None"
      ],
      "execution_count": 0,
      "outputs": []
    },
    {
      "cell_type": "code",
      "metadata": {
        "id": "_UGADkFAtZIp",
        "colab_type": "code",
        "colab": {}
      },
      "source": [
        "import sqlite3\n",
        "conn = sqlite3.connect(\"dsa.db\")"
      ],
      "execution_count": 0,
      "outputs": []
    },
    {
      "cell_type": "code",
      "metadata": {
        "id": "cZMjP_rEtzge",
        "colab_type": "code",
        "colab": {}
      },
      "source": [
        "c = conn.cursor()"
      ],
      "execution_count": 0,
      "outputs": []
    },
    {
      "cell_type": "code",
      "metadata": {
        "id": "yfZXixIkt5mM",
        "colab_type": "code",
        "colab": {}
      },
      "source": [
        "#Criando função para criar tabela\n",
        "\n",
        "def create_table():\n",
        "  c.execute('CREATE TABLE IF NOT EXISTS produtoS(id INTEGER PRIMARY KEY AUTOINCREMENT NOT NULL, date TEXT,' \\\n",
        "            'prod_name TEXT, valor REAL)')"
      ],
      "execution_count": 0,
      "outputs": []
    },
    {
      "cell_type": "code",
      "metadata": {
        "id": "i38Nit83unKB",
        "colab_type": "code",
        "colab": {}
      },
      "source": [
        "#Criando função para inserir uma linha\n",
        "\n",
        "def data_insert():\n",
        "  c.execute(\"INSERT INTO produtos VALUES(10, '2018-05-02 14:32:11', 'Teclado', '90')\")\n",
        "  conn.commit()\n",
        "  c.close()\n",
        "  conn.close()"
      ],
      "execution_count": 0,
      "outputs": []
    },
    {
      "cell_type": "code",
      "metadata": {
        "id": "Svb6svJGvKa3",
        "colab_type": "code",
        "colab": {}
      },
      "source": [
        "create_table()"
      ],
      "execution_count": 0,
      "outputs": []
    },
    {
      "cell_type": "code",
      "metadata": {
        "id": "7dW3KBGkvM_p",
        "colab_type": "code",
        "colab": {}
      },
      "source": [
        "data_insert()"
      ],
      "execution_count": 0,
      "outputs": []
    },
    {
      "cell_type": "code",
      "metadata": {
        "id": "1rpUWSh0vOLy",
        "colab_type": "code",
        "colab": {}
      },
      "source": [
        "import random\n",
        "import time\n",
        "import datetime"
      ],
      "execution_count": 0,
      "outputs": []
    },
    {
      "cell_type": "code",
      "metadata": {
        "id": "hRPPc3smvu7R",
        "colab_type": "code",
        "colab": {}
      },
      "source": [
        "conn = sqlite3.connect(\"dsa.db\")"
      ],
      "execution_count": 0,
      "outputs": []
    },
    {
      "cell_type": "code",
      "metadata": {
        "id": "VkN7WcOpv3FW",
        "colab_type": "code",
        "colab": {}
      },
      "source": [
        "c = conn.cursor()"
      ],
      "execution_count": 0,
      "outputs": []
    },
    {
      "cell_type": "code",
      "metadata": {
        "id": "0g4d5x3wv3fu",
        "colab_type": "code",
        "colab": {}
      },
      "source": [
        "def data_insert_var(prod_name):\n",
        "  new_date = datetime.datetime.now()\n",
        "  new_prod_name = prod_name\n",
        "  new_value = random.randrange(50,100)\n",
        "  c.execute(\"INSERT INTO produtos(date, prod_name, valor) VALUES (?,?,?)\", (new_date, new_prod_name, new_value))\n",
        "  conn.commit()"
      ],
      "execution_count": 0,
      "outputs": []
    },
    {
      "cell_type": "code",
      "metadata": {
        "id": "NzsdZ54Jwh-k",
        "colab_type": "code",
        "colab": {}
      },
      "source": [
        "for i in range(10):\n",
        "  val = \"Valor número :\"+ str(i)\n",
        "  data_insert_var(val)\n",
        "  time.sleep(1)"
      ],
      "execution_count": 0,
      "outputs": []
    },
    {
      "cell_type": "code",
      "metadata": {
        "id": "wBS1oLIywvZD",
        "colab_type": "code",
        "colab": {}
      },
      "source": [
        "def search_all():\n",
        "  sql_select = (\"SELECT * from produtos\")\n",
        "  c.execute(sql_select)\n",
        "  dados = c.fetchall()\n",
        "\n",
        "  for dado in dados:\n",
        "    print(\" id: %d , data: %s, prod_name: %s, valor: %d\\n \" %dado)"
      ],
      "execution_count": 0,
      "outputs": []
    },
    {
      "cell_type": "code",
      "metadata": {
        "id": "rZx37MXuw8BV",
        "colab_type": "code",
        "colab": {
          "base_uri": "https://localhost:8080/",
          "height": 386
        },
        "outputId": "6b047d4b-e240-47c0-98fb-72efb285bdd3"
      },
      "source": [
        "search_all()"
      ],
      "execution_count": 28,
      "outputs": [
        {
          "output_type": "stream",
          "text": [
            " id: 10 , data: 2018-05-02 14:32:11, prod_name: Teclado, valor: 90\n",
            " \n",
            " id: 11 , data: 2020-05-18 03:12:06.509457, prod_name: Valor número :0, valor: 81\n",
            " \n",
            " id: 12 , data: 2020-05-18 03:12:07.522935, prod_name: Valor número :1, valor: 93\n",
            " \n",
            " id: 13 , data: 2020-05-18 03:12:08.534603, prod_name: Valor número :2, valor: 71\n",
            " \n",
            " id: 14 , data: 2020-05-18 03:12:09.547265, prod_name: Valor número :3, valor: 92\n",
            " \n",
            " id: 15 , data: 2020-05-18 03:12:10.560662, prod_name: Valor número :4, valor: 76\n",
            " \n",
            " id: 16 , data: 2020-05-18 03:12:11.573638, prod_name: Valor número :5, valor: 62\n",
            " \n",
            " id: 17 , data: 2020-05-18 03:12:12.585487, prod_name: Valor número :6, valor: 64\n",
            " \n",
            " id: 18 , data: 2020-05-18 03:12:13.597679, prod_name: Valor número :7, valor: 92\n",
            " \n",
            " id: 19 , data: 2020-05-18 03:12:14.610442, prod_name: Valor número :8, valor: 54\n",
            " \n",
            " id: 20 , data: 2020-05-18 03:12:15.622895, prod_name: Valor número :9, valor: 61\n",
            " \n"
          ],
          "name": "stdout"
        }
      ]
    }
  ]
}