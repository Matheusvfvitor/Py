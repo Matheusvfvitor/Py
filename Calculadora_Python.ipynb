{
  "nbformat": 4,
  "nbformat_minor": 0,
  "metadata": {
    "colab": {
      "name": "Calculadora_Python.ipynb",
      "provenance": [],
      "authorship_tag": "ABX9TyOrhZ4PvYaJvpyAo9Yg8pya",
      "include_colab_link": true
    },
    "kernelspec": {
      "name": "python3",
      "display_name": "Python 3"
    }
  },
  "cells": [
    {
      "cell_type": "markdown",
      "metadata": {
        "id": "view-in-github",
        "colab_type": "text"
      },
      "source": [
        "<a href=\"https://colab.research.google.com/github/Matheusvfvitor/Py/blob/master/Calculadora_Python.ipynb\" target=\"_parent\"><img src=\"https://colab.research.google.com/assets/colab-badge.svg\" alt=\"Open In Colab\"/></a>"
      ]
    },
    {
      "cell_type": "code",
      "metadata": {
        "id": "hwVya-YxJE_e",
        "colab_type": "code",
        "colab": {}
      },
      "source": [
        "import math as math"
      ],
      "execution_count": 0,
      "outputs": []
    },
    {
      "cell_type": "code",
      "metadata": {
        "id": "Q7ll_D-_JQqA",
        "colab_type": "code",
        "colab": {}
      },
      "source": [
        "def calculadora():\n",
        "\n",
        "  continua = 1\n",
        "  while continua == 1:\n",
        "\n",
        "    import math as math\n",
        "    print(\"Selecione qual operação que você quer realizar : \\n 1 - Soma \\n 2 - Subtração \\n 3 - Multiplicação \\n 4 - Divisão \\n 5 - Seno \\n 6 - Cosseno \\n 7 - Tangente\")\n",
        "    op = int(input(\"Digite sua operação : \"))\n",
        "    arg1 = float(input(\"Digite o primeiro valor :\"))\n",
        "    if op <= 4:\n",
        "          arg2 = float(input(\"Digite o segundo parâmetro: \"))\n",
        "\n",
        "    if op == 1 :\n",
        "      res = arg1 + arg2\n",
        "    elif op == 2:\n",
        "      res = arg1 - arg2\n",
        "    elif op == 3:\n",
        "      res = arg1 * arg2\n",
        "    elif op == 4:\n",
        "      res = arg1 * arg2\n",
        "    elif op == 5:\n",
        "      res = math.sin(arg1)\n",
        "    elif op == 6:\n",
        "      res = math.cos(arg1)\n",
        "    elif op == 7:\n",
        "      res = math.tan(arg1)\n",
        "\n",
        "    print(res)"
      ],
      "execution_count": 0,
      "outputs": []
    },
    {
      "cell_type": "code",
      "metadata": {
        "id": "lTFfTnTUKSpL",
        "colab_type": "code",
        "outputId": "cc3fe014-7d5b-4bf1-dd2b-b4a3478e5a92",
        "colab": {
          "base_uri": "https://localhost:8080/",
          "height": 190
        }
      },
      "source": [
        "calculadora()"
      ],
      "execution_count": 0,
      "outputs": [
        {
          "output_type": "stream",
          "text": [
            "Selecione qual operação que você quer realizar : \n",
            " 1 - Soma \n",
            " 2 - Subtração \n",
            " 3 - Multiplicação \n",
            " 4 - Divisão \n",
            " 5 - Seno \n",
            " 6 - Cosseno \n",
            " 7 - Tangente\n"
          ],
          "name": "stdout"
        }
      ]
    },
    {
      "cell_type": "code",
      "metadata": {
        "id": "BJr4NyniKTlx",
        "colab_type": "code",
        "colab": {}
      },
      "source": [
        ""
      ],
      "execution_count": 0,
      "outputs": []
    }
  ]
}