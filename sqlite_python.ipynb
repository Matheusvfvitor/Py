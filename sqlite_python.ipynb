{
  "nbformat": 4,
  "nbformat_minor": 0,
  "metadata": {
    "colab": {
      "name": "sqlite python.ipynb",
      "provenance": [],
      "authorship_tag": "ABX9TyMnwemGWp6g8oqYI9zEn+0Z",
      "include_colab_link": true
    },
    "kernelspec": {
      "name": "python3",
      "display_name": "Python 3"
    }
  },
  "cells": [
    {
      "cell_type": "markdown",
      "metadata": {
        "id": "view-in-github",
        "colab_type": "text"
      },
      "source": [
        "<a href=\"https://colab.research.google.com/github/Matheusvfvitor/Py/blob/master/sqlite_python.ipynb\" target=\"_parent\"><img src=\"https://colab.research.google.com/assets/colab-badge.svg\" alt=\"Open In Colab\"/></a>"
      ]
    },
    {
      "cell_type": "code",
      "metadata": {
        "id": "Z6JfqL9Mlpep",
        "colab_type": "code",
        "colab": {}
      },
      "source": [
        "import os"
      ],
      "execution_count": 0,
      "outputs": []
    },
    {
      "cell_type": "code",
      "metadata": {
        "id": "cSY22L3rmuLA",
        "colab_type": "code",
        "colab": {}
      },
      "source": [
        "import sqlite3"
      ],
      "execution_count": 0,
      "outputs": []
    },
    {
      "cell_type": "code",
      "metadata": {
        "id": "ZUxc_pLNsYU3",
        "colab_type": "code",
        "colab": {}
      },
      "source": [
        "os.remove(\"escola.db\")"
      ],
      "execution_count": 0,
      "outputs": []
    },
    {
      "cell_type": "code",
      "metadata": {
        "id": "zphBdJ7Pm0Qv",
        "colab_type": "code",
        "colab": {}
      },
      "source": [
        "conn = sqlite3.connect(\"escola.db\")"
      ],
      "execution_count": 0,
      "outputs": []
    },
    {
      "cell_type": "code",
      "metadata": {
        "id": "iGEWjZn9r1RW",
        "colab_type": "code",
        "colab": {
          "base_uri": "https://localhost:8080/",
          "height": 34
        },
        "outputId": "5acbc407-ce8e-4dfc-f36b-492017a0701a"
      },
      "source": [
        "type(conn)"
      ],
      "execution_count": 32,
      "outputs": [
        {
          "output_type": "execute_result",
          "data": {
            "text/plain": [
              "sqlite3.Connection"
            ]
          },
          "metadata": {
            "tags": []
          },
          "execution_count": 32
        }
      ]
    },
    {
      "cell_type": "code",
      "metadata": {
        "id": "NrgggjdZr24c",
        "colab_type": "code",
        "colab": {}
      },
      "source": [
        "cur = conn.cursor()"
      ],
      "execution_count": 0,
      "outputs": []
    },
    {
      "cell_type": "code",
      "metadata": {
        "id": "uBNTdKerr4Yr",
        "colab_type": "code",
        "colab": {
          "base_uri": "https://localhost:8080/",
          "height": 34
        },
        "outputId": "18ee905c-d29e-4340-dcdd-8f5e38f1a048"
      },
      "source": [
        "type(cur)"
      ],
      "execution_count": 34,
      "outputs": [
        {
          "output_type": "execute_result",
          "data": {
            "text/plain": [
              "sqlite3.Cursor"
            ]
          },
          "metadata": {
            "tags": []
          },
          "execution_count": 34
        }
      ]
    },
    {
      "cell_type": "code",
      "metadata": {
        "id": "91Fou-zrr54D",
        "colab_type": "code",
        "colab": {}
      },
      "source": [
        "sql_create ='create table cursos '\\\n",
        "            '(id integer primary key, titulo varchar(100), categoria varchar(140))'"
      ],
      "execution_count": 0,
      "outputs": []
    },
    {
      "cell_type": "code",
      "metadata": {
        "id": "oT9-GiVUr7jx",
        "colab_type": "code",
        "colab": {
          "base_uri": "https://localhost:8080/",
          "height": 34
        },
        "outputId": "73b0766c-69fa-465b-a33b-0c35e6b547c4"
      },
      "source": [
        "cur.execute(sql_create)"
      ],
      "execution_count": 36,
      "outputs": [
        {
          "output_type": "execute_result",
          "data": {
            "text/plain": [
              "<sqlite3.Cursor at 0x7f7dcce426c0>"
            ]
          },
          "metadata": {
            "tags": []
          },
          "execution_count": 36
        }
      ]
    },
    {
      "cell_type": "code",
      "metadata": {
        "id": "Qm7n2Xc3r9AS",
        "colab_type": "code",
        "colab": {}
      },
      "source": [
        "sql_insert = 'insert into cursos values (?,?,?)'"
      ],
      "execution_count": 0,
      "outputs": []
    },
    {
      "cell_type": "code",
      "metadata": {
        "id": "onNOJ-B0r-aJ",
        "colab_type": "code",
        "colab": {}
      },
      "source": [
        "recset =[(2000, 'Ciência de dados', 'Data Science'),\n",
        "         (2001, 'Big Data Fundamentos', 'Big Data'),\n",
        "         (2002, 'Python Fundamentos','Análise de Dados')]"
      ],
      "execution_count": 0,
      "outputs": []
    },
    {
      "cell_type": "code",
      "metadata": {
        "id": "m6zAivEIr_8F",
        "colab_type": "code",
        "colab": {}
      },
      "source": [
        "for rec in recset:\n",
        "    cur.execute(sql_insert, rec)"
      ],
      "execution_count": 0,
      "outputs": []
    },
    {
      "cell_type": "code",
      "metadata": {
        "id": "E_oG6TiGsBW9",
        "colab_type": "code",
        "colab": {}
      },
      "source": [
        "conn.commit()"
      ],
      "execution_count": 0,
      "outputs": []
    },
    {
      "cell_type": "code",
      "metadata": {
        "id": "6ixdFkEOsClR",
        "colab_type": "code",
        "colab": {}
      },
      "source": [
        "sql_select = 'select * from cursos'"
      ],
      "execution_count": 0,
      "outputs": []
    },
    {
      "cell_type": "code",
      "metadata": {
        "id": "HAgYlBqBsD4j",
        "colab_type": "code",
        "colab": {}
      },
      "source": [
        "cur.execute(sql_select)\n",
        "dados = cur.fetchall()"
      ],
      "execution_count": 0,
      "outputs": []
    },
    {
      "cell_type": "code",
      "metadata": {
        "id": "GyOxCy4AsFSG",
        "colab_type": "code",
        "colab": {
          "base_uri": "https://localhost:8080/",
          "height": 118
        },
        "outputId": "d0e858da-cebe-40ce-85f2-0d866833f1f5"
      },
      "source": [
        "for linha in dados:\n",
        "    print(\"Curso ID %d , Título: %s , Categoria: %s \\n\" % linha)"
      ],
      "execution_count": 43,
      "outputs": [
        {
          "output_type": "stream",
          "text": [
            "Curso ID 2000 , Título: Ciência de dados , Categoria: Data Science \n",
            "\n",
            "Curso ID 2001 , Título: Big Data Fundamentos , Categoria: Big Data \n",
            "\n",
            "Curso ID 2002 , Título: Python Fundamentos , Categoria: Análise de Dados \n",
            "\n"
          ],
          "name": "stdout"
        }
      ]
    },
    {
      "cell_type": "code",
      "metadata": {
        "id": "y_JsGFNhsGsr",
        "colab_type": "code",
        "colab": {}
      },
      "source": [
        "recset =[(1003, 'Gestão de dados com MogoDb', 'Big Data'),\n",
        "         (1004, 'R Fundamentos', 'Análise de dados')]"
      ],
      "execution_count": 0,
      "outputs": []
    },
    {
      "cell_type": "code",
      "metadata": {
        "id": "1s_5yhnlsInJ",
        "colab_type": "code",
        "colab": {
          "base_uri": "https://localhost:8080/",
          "height": 185
        },
        "outputId": "684a550c-d570-4922-bbf8-703d2ed7800d"
      },
      "source": [
        "for rec in recset:\n",
        "    cur.execute(sql_insert, rec)\n",
        "\n",
        "conn.commit()\n",
        "\n",
        "cur.execute(sql_select)\n",
        "dados = cur.fetchall()\n",
        "\n",
        "for linha in dados:\n",
        "    print(\"Curso ID %d , Título: %s , Categoria: %s \\n\" % linha)"
      ],
      "execution_count": 45,
      "outputs": [
        {
          "output_type": "stream",
          "text": [
            "Curso ID 1003 , Título: Gestão de dados com MogoDb , Categoria: Big Data \n",
            "\n",
            "Curso ID 1004 , Título: R Fundamentos , Categoria: Análise de dados \n",
            "\n",
            "Curso ID 2000 , Título: Ciência de dados , Categoria: Data Science \n",
            "\n",
            "Curso ID 2001 , Título: Big Data Fundamentos , Categoria: Big Data \n",
            "\n",
            "Curso ID 2002 , Título: Python Fundamentos , Categoria: Análise de Dados \n",
            "\n"
          ],
          "name": "stdout"
        }
      ]
    },
    {
      "cell_type": "code",
      "metadata": {
        "id": "5GEhWswTsQns",
        "colab_type": "code",
        "colab": {}
      },
      "source": [
        "conn.close()"
      ],
      "execution_count": 0,
      "outputs": []
    }
  ]
}